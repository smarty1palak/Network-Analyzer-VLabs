{
 "cells": [
  {
   "cell_type": "code",
   "execution_count": 2,
   "metadata": {},
   "outputs": [],
   "source": [
    "with open('urls1.txt') as f:\n",
    "    content = f.read().splitlines()"
   ]
  },
  {
   "cell_type": "code",
   "execution_count": 3,
   "metadata": {},
   "outputs": [
    {
     "data": {
      "text/plain": [
       "['http://cse01-iiith.vlabs.ac.in/exp5/binarySearchTree.html',\n",
       " 'http://cse19-iiith.vlabs.ac.in/fourier.php',\n",
       " 'http://htv-au.vlabs.ac.in/Heat_Transfer_by_Radiation/experiment.html',\n",
       " 'http://vlabs.iitkgp.ernet.in/dec/exp1/index.html#',\n",
       " 'http://iitg.ac.in/cseweb/vlab/vlsi/1/',\n",
       " 'http://htv-au.vlabs.ac.in/Heat_Transfer_by_Natural_Convection/experiment.html',\n",
       " 'http://sm-nitk.vlabs.ac.in/exp10/index.html#',\n",
       " 'http://fm-nitk.vlabs.ac.in/exp4/index.html#',\n",
       " 'http://mm-nitk.vlabs.ac.in/exp1/index.html#',\n",
       " 'http://mdmv-nitk.vlabs.ac.in/exp1/index.html#']"
      ]
     },
     "execution_count": 3,
     "metadata": {},
     "output_type": "execute_result"
    }
   ],
   "source": [
    "content"
   ]
  },
  {
   "cell_type": "code",
   "execution_count": 7,
   "metadata": {},
   "outputs": [
    {
     "data": {
      "text/plain": [
       "10"
      ]
     },
     "execution_count": 7,
     "metadata": {},
     "output_type": "execute_result"
    }
   ],
   "source": [
    "len(content)"
   ]
  },
  {
   "cell_type": "code",
   "execution_count": 22,
   "metadata": {},
   "outputs": [],
   "source": [
    "text_file = open(\"segmented1.txt\", \"w\")\n",
    "text_file1 = open(\"codepart.txt\", \"w\")"
   ]
  },
  {
   "cell_type": "code",
   "execution_count": 23,
   "metadata": {},
   "outputs": [
    {
     "name": "stdout",
     "output_type": "stream",
     "text": [
      "http://cse01-iiith.vlabs.ac.in/exp5\n",
      "binarySearchTree.html\n",
      "http://cse19-iiith.vlabs.ac.in\n",
      "fourier.php\n",
      "http://htv-au.vlabs.ac.in/Heat_Transfer_by_Radiation\n",
      "experiment.html\n",
      "http://vlabs.iitkgp.ernet.in/dec/exp1\n",
      "index.html#\n",
      "http://iitg.ac.in/cseweb/vlab/vlsi/1\n",
      "\n",
      "http://htv-au.vlabs.ac.in/Heat_Transfer_by_Natural_Convection\n",
      "experiment.html\n",
      "http://sm-nitk.vlabs.ac.in/exp10\n",
      "index.html#\n",
      "http://fm-nitk.vlabs.ac.in/exp4\n",
      "index.html#\n",
      "http://mm-nitk.vlabs.ac.in/exp1\n",
      "index.html#\n",
      "http://mdmv-nitk.vlabs.ac.in/exp1\n",
      "index.html#\n"
     ]
    }
   ],
   "source": [
    "for i in range(0,len(content)):\n",
    "    seg = content[i].rpartition('/')\n",
    "    print(seg[0])\n",
    "    text_file.write(seg[0])\n",
    "    text_file.write(\"\\n\")\n",
    "    text_file1.write('/'+ seg[2])\n",
    "    text_file1.write(\"\\n\")\n",
    "    print(seg[2])"
   ]
  },
  {
   "cell_type": "code",
   "execution_count": 24,
   "metadata": {},
   "outputs": [],
   "source": [
    "text_file.close()\n",
    "text_file1.close()"
   ]
  },
  {
   "cell_type": "code",
   "execution_count": 11,
   "metadata": {},
   "outputs": [],
   "source": [
    "import globalfile as gf"
   ]
  },
  {
   "cell_type": "code",
   "execution_count": 12,
   "metadata": {},
   "outputs": [
    {
     "data": {
      "text/plain": [
       "0"
      ]
     },
     "execution_count": 12,
     "metadata": {},
     "output_type": "execute_result"
    }
   ],
   "source": [
    "gf.i"
   ]
  },
  {
   "cell_type": "code",
   "execution_count": 13,
   "metadata": {},
   "outputs": [],
   "source": [
    "gf.i=gf.i+1"
   ]
  },
  {
   "cell_type": "code",
   "execution_count": 14,
   "metadata": {},
   "outputs": [
    {
     "data": {
      "text/plain": [
       "1"
      ]
     },
     "execution_count": 14,
     "metadata": {},
     "output_type": "execute_result"
    }
   ],
   "source": [
    "gf.i"
   ]
  },
  {
   "cell_type": "code",
   "execution_count": 15,
   "metadata": {},
   "outputs": [],
   "source": [
    "import globalfile as gf"
   ]
  },
  {
   "cell_type": "code",
   "execution_count": 16,
   "metadata": {},
   "outputs": [
    {
     "data": {
      "text/plain": [
       "1"
      ]
     },
     "execution_count": 16,
     "metadata": {},
     "output_type": "execute_result"
    }
   ],
   "source": [
    "gf.i"
   ]
  },
  {
   "cell_type": "code",
   "execution_count": null,
   "metadata": {},
   "outputs": [],
   "source": []
  }
 ],
 "metadata": {
  "kernelspec": {
   "display_name": "Python 3",
   "language": "python",
   "name": "python3"
  },
  "language_info": {
   "codemirror_mode": {
    "name": "ipython",
    "version": 3
   },
   "file_extension": ".py",
   "mimetype": "text/x-python",
   "name": "python",
   "nbconvert_exporter": "python",
   "pygments_lexer": "ipython3",
   "version": "3.6.8"
  }
 },
 "nbformat": 4,
 "nbformat_minor": 2
}
